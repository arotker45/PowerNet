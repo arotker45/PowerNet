{
 "cells": [
  {
   "cell_type": "markdown",
   "metadata": {},
   "Intended to be used with the following library": [
    "[Cortix](https://cortix.org) Module 23May2019\n",
    "\n",
    "# PowerNet: A robust nuclear grid simulation"
   ]
  },
  {
   "cell_type": "markdown",
   "metadata": {},
   "source": [
    "### Template: Austin Rotker                 \n",
    "**Email:**     austin_rotker@student.uml.edu <br>\n",
   ]
  },
  {
   "cell_type": "markdown",
   "metadata": {},
   "source": [
    "**Work Schedule Summer  2019**\n",
    "\n",
    "\n",
    "|**Week**|Day| **Date**  |**Task**|**Assessment**|**Note**|\n",
    "|:-------:|:-:|:---------:|:-----------:|:-------------:|:------:|\n",
    "| **1**  | M |**20May19**| Build plotting module for IR-7040 |     -     |    -    |\n",
    "| 1      | W |  22May19  | Connect DADOS and the plotting module using Cortix |     -     |    -    |\n",
    "| 1      | F |  24May19  |get comment code to compile |   -   | - |\n",
    "| 2      | M |  27May19  |comments for rest of files  |   -   | - |\n",
    "| 2      | W  |  29May19  |comments for rest of files  |   -   | - |\n",
    "| 2      | F |  31May19  | comments for rest of files  |   -   | - |\n",
    "|:------:|:-:|:---------:|:------------------------------------------------------:|:-------------:|:------:|\n",
    "| **3**  | M |**03Jun19**| void coefficient      |       -       |   -     |-  |\n",
    "| 3      | W |  05Jun19  | void coefficient  |   -   | - |\n",
    "| 3      | F |  07Jun19  | void coefficient  |   -   | - |\n",
    "| 4      | M |  10Jun19  |fission product poisons  |   -   | - |\n",
    "| 4      | W |  12Jun19  | fission product poisons  |   -   | - |\n",
    "| 4      | F |  14Jun19  | fission product poisons  |   -   | - |\n",
    "| 5      | M |  17Jun19  |fuel burnup  |   -   | - |\n",
    "| 5      | W |  19Jun19  | fission products  |   -   | - |\n",
    "| 5      | F |  21Jun19  | fission products  |   -   | - |\n",
    "| 6      | M |  24Jun19  | decay heat  |   -   | - |\n",
    "| 6      | W |  26Jun19  | make modifying parameters on the fly possible  |   -   | - |\n",
    "| 6      | F |  28Jun19  | make modifying parameters on the fly possible  |   -   | - |\n",
    "|:------:|:-:|:---------:|:------------------------------------------------------:|:-------------:|:------:|\n",
    "| **7**  | M |**01Jul19**| load      |       -       |   -     |-  |\n",
    "| 7      | W |  03Jul19  | load  |   -   | - |\n",
    "| 7      | F |  05Jul19  | depot  |   -   | - |\n",
    "| 8      | M |  08Jul19  | depot  |   -   | - |\n",
    "| 8      | W |  10Jul19  | recycling  |   -   | - |\n",
    "| 8      | F |  12Jul19  | recycling  |   -   | - |\n",
    "| 9      | M |  15Jul19  | corticize  |   -   | - |\n",
    "| 9      | W |  17Jul19  | corticize  |   -   | - |\n",
    "| 9      | F |  19Jul19  | corticize  |   -   | - |"
   ]
  },
  {
   "cell_type": "code",
   "execution_count": null,
   "metadata": {},
   "outputs": [],
   "source": []
  }
 ],
 "metadata": {
  "kernelspec": {
   "display_name": "Python 3",
   "language": "python",
   "name": "python3"
  },
  "language_info": {
   "codemirror_mode": {
    "name": "ipython",
    "version": 3
   },
   "file_extension": ".py",
   "mimetype": "text/x-python",
   "name": "python",
   "nbconvert_exporter": "python",
   "pygments_lexer": "ipython3",
   "version": "3.7.1"
  },
  "latex_envs": {
   "LaTeX_envs_menu_present": true,
   "autoclose": false,
   "autocomplete": true,
   "bibliofile": "biblio.bib",
   "cite_by": "apalike",
   "current_citInitial": 1,
   "eqLabelWithNumbers": true,
   "eqNumInitial": 1,
   "hotkeys": {
    "equation": "Ctrl-E",
    "itemize": "Ctrl-I"
   },
   "labels_anchors": false,
   "latex_user_defs": false,
   "report_style_numbering": false,
   "user_envs_cfg": false
  }
 },
 "nbformat": 4,
 "nbformat_minor": 2
}
